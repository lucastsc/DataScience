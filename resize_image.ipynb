{
 "cells": [
  {
   "cell_type": "code",
   "execution_count": 3,
   "id": "247ac49b",
   "metadata": {},
   "outputs": [],
   "source": [
    "#imports\n",
    "import numpy as np\n",
    "from PIL import Image\n",
    "from matplotlib.pyplot import imshow\n"
   ]
  },
  {
   "cell_type": "code",
   "execution_count": 10,
   "id": "1d549e47",
   "metadata": {},
   "outputs": [
    {
     "data": {
      "text/plain": [
       "(10.583333333333334, 10.583333333333334)"
      ]
     },
     "execution_count": 10,
     "metadata": {},
     "output_type": "execute_result"
    }
   ],
   "source": [
    "#function shows image\n",
    "def show_img(img_path):\n",
    "    #open image\n",
    "    im = Image.open(img_path, 'r')\n",
    "    imshow(np.asarray(im))\n",
    "\n",
    "#function converts pixels to centimeters\n",
    "def pix2cm(pixels):\n",
    "    result_cm = pixels * 2.54 / 96\n",
    "    return result_cm\n",
    "\n",
    "#function converts centimeters to pixels\n",
    "def cm2pix(cm):\n",
    "    result_pix = cm * 96 / 2.54\n",
    "    return result_pix\n",
    "\n",
    "#give image dimensions in pixels\n",
    "def im_pixdims(img_path):\n",
    "    #open image - reading mode\n",
    "    im = Image.open(img_path, 'r')\n",
    "\n",
    "    #original image pixel dimensions\n",
    "    W, H = im.size\n",
    "    return W, H\n",
    "\n",
    "#give image dimensions in centimeters\n",
    "def im_cmdims(img_path):\n",
    "    W, H = im_pixdims(img_path)\n",
    "    W_cm, H_cm = pix2cm(W), pix2cm(H)\n",
    "    return W_cm, H_cm\n",
    "\n",
    "im_cmdims('swiss_view.jpg')\n"
   ]
  }
 ],
 "metadata": {
  "hide_input": false,
  "kernelspec": {
   "display_name": "Python 3.8.8 ('base')",
   "language": "python",
   "name": "python3"
  },
  "language_info": {
   "codemirror_mode": {
    "name": "ipython",
    "version": 3
   },
   "file_extension": ".py",
   "mimetype": "text/x-python",
   "name": "python",
   "nbconvert_exporter": "python",
   "pygments_lexer": "ipython3",
   "version": "3.8.8"
  },
  "varInspector": {
   "cols": {
    "lenName": 16,
    "lenType": 16,
    "lenVar": 40
   },
   "kernels_config": {
    "python": {
     "delete_cmd_postfix": "",
     "delete_cmd_prefix": "del ",
     "library": "var_list.py",
     "varRefreshCmd": "print(var_dic_list())"
    },
    "r": {
     "delete_cmd_postfix": ") ",
     "delete_cmd_prefix": "rm(",
     "library": "var_list.r",
     "varRefreshCmd": "cat(var_dic_list()) "
    }
   },
   "types_to_exclude": [
    "module",
    "function",
    "builtin_function_or_method",
    "instance",
    "_Feature"
   ],
   "window_display": false
  },
  "vscode": {
   "interpreter": {
    "hash": "ad2bdc8ecc057115af97d19610ffacc2b4e99fae6737bb82f5d7fb13d2f2c186"
   }
  }
 },
 "nbformat": 4,
 "nbformat_minor": 5
}
